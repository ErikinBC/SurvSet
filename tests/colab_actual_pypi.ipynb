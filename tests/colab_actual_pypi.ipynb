{
 "cells": [
  {
   "cell_type": "markdown",
   "id": "c1e94251",
   "metadata": {},
   "source": [
    "# Check that the test PyPI code built successfully\n",
    "\n",
    "For multiple iterations, you might need to run the following:\n",
    "`!pip uninstall -y SurvSet`\n",
    "`pip install SurvSet==X.X.X`"
   ]
  },
  {
   "cell_type": "code",
   "execution_count": null,
   "id": "170b6218",
   "metadata": {},
   "outputs": [],
   "source": [
    "# Install the current working version\n",
    "!pip install SurvSet"
   ]
  },
  {
   "cell_type": "code",
   "execution_count": null,
   "id": "50dfe7fd",
   "metadata": {},
   "outputs": [],
   "source": [
    "import SurvSet\n",
    "print(f'SurvSet version == {SurvSet.__version__}')"
   ]
  },
  {
   "cell_type": "code",
   "execution_count": null,
   "id": "ffd387de",
   "metadata": {},
   "outputs": [],
   "source": [
    "from SurvSet.data import SurvLoader\n",
    "loader = SurvLoader()\n",
    "# List of available datasets and meta-info\n",
    "print(loader.df_ds.head())\n",
    "# Load dataset and its reference\n",
    "df, ref = loader.load_dataset(ds_name='ova').values()\n",
    "print(df.head())\n",
    "print(df.dtypes)"
   ]
  }
 ],
 "metadata": {
  "language_info": {
   "name": "python"
  }
 },
 "nbformat": 4,
 "nbformat_minor": 5
}
